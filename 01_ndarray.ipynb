{
 "cells": [
  {
   "cell_type": "markdown",
   "metadata": {},
   "source": [
    "# Slicing and Plotting NumPy Array\n",
    "\n",
    "In this tutorial, we will go through basics of NumPy and Matplotlib for manipulating multi-dimensional images. We will use a dynamic MRI dataset as an example. Part of the tutorial is based on Stefan van der Walt's teaching materials in [ImageXD 2018](https://github.com/stefanv/teaching/tree/master/2018-imagexd_scientific_python) and [ASPP 2018](https://github.com/stefanv/teaching/tree/master/2018_aspp_melbourne_numpy).\n"
   ]
  },
  {
   "cell_type": "markdown",
   "metadata": {},
   "source": [
    "# Import NumPy"
   ]
  },
  {
   "cell_type": "code",
   "execution_count": null,
   "metadata": {},
   "outputs": [],
   "source": [
    "import numpy as np  # We always use this convention,\n",
    "                    # also in the documentation"
   ]
  },
  {
   "cell_type": "markdown",
   "metadata": {},
   "source": [
    "# Familiarize yourself with the jupyter notebook environment\n",
    "\n",
    "- Tab completion\n",
    "- Docstring inspection: `np.some_fun?` and `np.some_fun??`\n",
    "- Magic commands: `%timeit`, `%run`\n",
    "- Two modes: navigate & edit (use the keyboard!)"
   ]
  },
  {
   "cell_type": "markdown",
   "metadata": {},
   "source": [
    "# Load array"
   ]
  },
  {
   "cell_type": "markdown",
   "metadata": {},
   "source": [
    "To start, we will use a cardiac MRI dataset. The dataset has shape (30, 144, 144). The dimensions are ordered as time, y, and x.\n",
    "\n",
    "Let us load the dataset first and look at its shape:"
   ]
  },
  {
   "cell_type": "code",
   "execution_count": null,
   "metadata": {
    "scrolled": true
   },
   "outputs": [],
   "source": [
    "img = np.load('data/cardiac.npy')\n",
    "\n",
    "img.shape, img.dtype"
   ]
  },
  {
   "cell_type": "markdown",
   "metadata": {},
   "source": [
    "One feature of NumPy is that unlike Matlab, it can provide views of the underlying array without copying the array.  For example, to get the first frame of the image, we can do\n",
    "\n",
    "    img[0]\n",
    "    \n",
    "which extracts the first frame without copying."
   ]
  },
  {
   "cell_type": "code",
   "execution_count": null,
   "metadata": {},
   "outputs": [],
   "source": [
    "img_0 = img[0]\n",
    "\n",
    "img_0.shape"
   ]
  },
  {
   "cell_type": "markdown",
   "metadata": {},
   "source": [
    "# Plot image\n",
    "\n",
    "An important part of computational imaging is to look at the images. So let us go through some basics of the plotting library `matplotlib`.\n",
    "\n",
    "Matplotlib has multiple \"backends\" that handle converting Matplotlib's in-memory representation of your plot into the colorful output you can look at. For jupyter notebooks, we will use a matplotlib magic to choose the `'nbagg'` backend and import matplotlib.pyplot."
   ]
  },
  {
   "cell_type": "code",
   "execution_count": null,
   "metadata": {},
   "outputs": [],
   "source": [
    "%matplotlib notebook\n",
    "import matplotlib.pyplot as plt"
   ]
  },
  {
   "cell_type": "markdown",
   "metadata": {},
   "source": [
    "Adn we can plot the image slice with the following command:"
   ]
  },
  {
   "cell_type": "code",
   "execution_count": null,
   "metadata": {},
   "outputs": [],
   "source": [
    "fig, ax = plt.subplots()\n",
    "ax.imshow(img_0, cmap='gray')"
   ]
  },
  {
   "cell_type": "markdown",
   "metadata": {},
   "source": [
    "# Details about Matplotlib\n",
    "\n",
    "Let us explain what `fig` and `ax` are.\n",
    "\n",
    "<img src=\"images/figure_axes_axis_labeled.png\" width=\"50%\">\n",
    "\n",
    "`fig` is a ``Figure`` object. The ``Figure`` is the top-level container in this hierarchy.  It is the overall window/page that everything is drawn on.  You can have multiple independent figures and ``Figure``s can contain multiple ``Axes``. \n",
    "\n",
    "`ax` is an ``Axes`` object. Most plotting ocurs on an ``Axes``.  The axes is effectively the area that we plot data on and any ticks/labels/etc associated with it.  Usually we'll set up an Axes with a call to ``subplot`` (which places Axes on a regular grid), so in most cases, ``Axes`` and ``Subplot`` are synonymous.\n",
    "\n",
    "Each ``Axes`` has an ``XAxis`` and a ``YAxis``.  These contain the ticks, tick locations, labels, etc.  In this tutorial, we'll mostly control ticks, tick labels, and data limits through other mechanisms, so we won't touch the individual ``Axis`` part of things all that much.  However, it is worth mentioning here to explain where the term ``Axes`` comes from."
   ]
  },
  {
   "cell_type": "markdown",
   "metadata": {},
   "source": [
    "# Plot through time"
   ]
  },
  {
   "cell_type": "code",
   "execution_count": null,
   "metadata": {},
   "outputs": [],
   "source": [
    "fig, ax = plt.subplots()\n",
    "for t in range(30):\n",
    "    ax.cla()\n",
    "    ax.imshow(img[t], cmap='gray')\n",
    "    fig.canvas.draw()"
   ]
  },
  {
   "cell_type": "markdown",
   "metadata": {},
   "source": [
    "# Slice temporal profile"
   ]
  },
  {
   "cell_type": "markdown",
   "metadata": {},
   "source": [
    "We are often interested in the temporal profile to look at the sharpness of the reconstruction. For example, if we are interested in the temporal profile at $x = 75$, we can create a view as"
   ]
  },
  {
   "cell_type": "code",
   "execution_count": null,
   "metadata": {
    "scrolled": false
   },
   "outputs": [],
   "source": [
    "time_profile = img[:, :, 75]\n",
    "\n",
    "fig, ax = plt.subplots()\n",
    "ax.imshow(time_profile, cmap='gray')\n",
    "ax.set_xlabel('y')\n",
    "ax.set_ylabel('t')"
   ]
  },
  {
   "cell_type": "markdown",
   "metadata": {},
   "source": [
    "It is often customary to put time progression horizontally. We can transpose the image using ``.T``"
   ]
  },
  {
   "cell_type": "code",
   "execution_count": null,
   "metadata": {
    "scrolled": false
   },
   "outputs": [],
   "source": [
    "time_profile = img[:, :, 75].T\n",
    "\n",
    "fig, ax = plt.subplots()\n",
    "ax.imshow(time_profile, cmap='gray')\n",
    "ax.set_xlabel('t')\n",
    "ax.set_ylabel('y')"
   ]
  },
  {
   "cell_type": "markdown",
   "metadata": {},
   "source": [
    "Note that none of the above operations created any additional arrays. All slices were simply views to the original image ``img``.\n",
    "\n",
    "In fact, if we scale ``time_profile`` by 2, then ``img`` will have a line scaled by 2."
   ]
  },
  {
   "cell_type": "code",
   "execution_count": null,
   "metadata": {},
   "outputs": [],
   "source": [
    "time_profile *= 2\n",
    "\n",
    "fig, ax = plt.subplots()\n",
    "ax.imshow(img[0], cmap='gray')"
   ]
  },
  {
   "cell_type": "markdown",
   "metadata": {},
   "source": [
    "Let us scale it back."
   ]
  },
  {
   "cell_type": "code",
   "execution_count": null,
   "metadata": {},
   "outputs": [],
   "source": [
    "time_profile /= 2\n",
    "\n",
    "fig, ax = plt.subplots()\n",
    "ax.imshow(img[0], cmap='gray')"
   ]
  },
  {
   "cell_type": "markdown",
   "metadata": {},
   "source": [
    "# Temporal smoothing using FFT and Broadcasting\n",
    "\n",
    "If you look at the images closely, you would see that it still has some noise. One way to get rid of the noise is to smooth along time.\n",
    "\n"
   ]
  },
  {
   "cell_type": "code",
   "execution_count": null,
   "metadata": {},
   "outputs": [],
   "source": [
    "window = np.hanning(30)\n",
    "\n",
    "fig, ax = plt.subplots()\n",
    "ax.plot(window)"
   ]
  },
  {
   "cell_type": "code",
   "execution_count": null,
   "metadata": {},
   "outputs": [],
   "source": [
    "ksp = np.fft.fftshift(np.fft.fft(np.fft.ifftshift(img, axes=0), axis=0), axes=0)\n",
    "ksp *= window[:, np.newaxis, np.newaxis]\n",
    "img_rec = np.fft.fftshift(np.fft.ifft(np.fft.ifftshift(ksp, axes=0), axis=0), axes=0)\n",
    "img_rec = np.abs(img_rec)\n",
    "\n",
    "fig, (ax0, ax1) = plt.subplots(1, 2)\n",
    "ax0.imshow(np.abs(img[0]), cmap='gray')\n",
    "ax1.imshow(np.abs(img_rec[0]), cmap='gray')"
   ]
  },
  {
   "cell_type": "code",
   "execution_count": null,
   "metadata": {},
   "outputs": [],
   "source": [
    "time_slice = img[:, :, 75].T\n",
    "time_slice_rec = img_rec[:, :, 75].T\n",
    "\n",
    "fig, ax = plt.subplots()\n",
    "ax.imshow(time_slice, cmap='gray')\n",
    "\n",
    "\n",
    "fig, ax = plt.subplots()\n",
    "ax.imshow(time_slice_rec, cmap='gray')"
   ]
  },
  {
   "cell_type": "markdown",
   "metadata": {},
   "source": [
    "# Details about NumPy Array\n",
    "\n",
    "We wrap up by taking a look at ``numpy/core/include/numpy/ndarraytypes.h``:\n",
    "\n",
    "```cpp\n",
    "ndarray typedef struct PyArrayObject {\n",
    "    PyObject_HEAD\n",
    "    char *data;             /* pointer to data buffer */\n",
    "    int nd;                 /* number of dimensions */\n",
    "    npy_intp *dimensions;   /* size in each dimension */\n",
    "    npy_intp *strides;      /* bytes to jump to get\n",
    "                             * to the next element in\n",
    "                             * each dimension\n",
    "                             */\n",
    "    PyObject *base;         /* Pointer to original array\n",
    "                            /* Decref this object */\n",
    "                            /* upon deletion. */\n",
    "    PyArray_Descr *descr;   /* Pointer to type struct */\n",
    "    int flags;              /* Flags */\n",
    "    PyObject *weakreflist;  /* For weakreferences */\n",
    "} PyArrayObject ;\n",
    "```"
   ]
  },
  {
   "cell_type": "markdown",
   "metadata": {},
   "source": [
    "NumPy Array essentially describes memory using the following attributes:\n",
    "\n",
    "- **Data pointer** the memory address of the first byte in the array.\n",
    "- **Data type** description the kind of elements contained in the array, for example floating point numbers or integers.\n",
    "- **Shape** the shape of the array, for example (10, 10) for a ten-by-ten array, or (5, 5, 5) for a block of data describing a mesh grid of x-, y- and z-coordinates.\n",
    "- **Strides** the number of bytes to skip in memory to proceed to the next element. For a (10, 10) array of bytes, for example, the strides may be (10, 1), in other words: proceed one byte to get to the next column and ten bytes to locate the next row.\n",
    "- **Flags** which define whether we are allowed to modify the array, whether memory layout is C- or Fortran-contiguous, and so forth.\n",
    "\n",
    "\n",
    "<img src=\"images/ndarray_struct.png\"/>"
   ]
  },
  {
   "cell_type": "markdown",
   "metadata": {},
   "source": [
    "This allows us to reshape and slice multi-dimensional arrays by setting shape, strides and flags appropriately.\n",
    "\n",
    "<img src=\"images/array_memory_presentation.png\" width=\"80%\"/>"
   ]
  }
 ],
 "metadata": {
  "kernelspec": {
   "display_name": "Python 3",
   "language": "python",
   "name": "python3"
  },
  "language_info": {
   "codemirror_mode": {
    "name": "ipython",
    "version": 3
   },
   "file_extension": ".py",
   "mimetype": "text/x-python",
   "name": "python",
   "nbconvert_exporter": "python",
   "pygments_lexer": "ipython3",
   "version": "3.7.3"
  }
 },
 "nbformat": 4,
 "nbformat_minor": 1
}
