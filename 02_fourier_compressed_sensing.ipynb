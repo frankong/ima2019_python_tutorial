{
 "cells": [
  {
   "cell_type": "markdown",
   "metadata": {},
   "source": [
    "# Building an L1 Wavelet Reconstruction\n",
    "\n",
    "In this notebook, we will create an L1 wavelet regularized reconstruction."
   ]
  },
  {
   "cell_type": "markdown",
   "metadata": {},
   "source": [
    "## Setup\n",
    "\n",
    "Let us import relevant packages and load a brain dataset."
   ]
  },
  {
   "cell_type": "code",
   "execution_count": null,
   "metadata": {},
   "outputs": [],
   "source": [
    "%matplotlib notebook\n",
    "import numpy as np\n",
    "import sigpy as sp\n",
    "import sigpy.mri as mr\n",
    "import sigpy.plot as pl\n",
    "import matplotlib.pyplot as plt"
   ]
  },
  {
   "cell_type": "code",
   "execution_count": null,
   "metadata": {},
   "outputs": [],
   "source": [
    "img = np.load('data/brain_img.npy')\n",
    "\n",
    "fig, ax = plt.subplots()\n",
    "ax.imshow(np.abs(img), cmap='gray')\n",
    "ax.set_title('Ground Truth')"
   ]
  },
  {
   "cell_type": "code",
   "execution_count": null,
   "metadata": {},
   "outputs": [],
   "source": [
    "ksp = np.load('data/brain_ksp.npy')\n",
    "\n",
    "fig, ax = plt.subplots()\n",
    "ax.imshow(np.abs(ksp)**0.1, cmap='gray')\n",
    "ax.set_title('Log k-space magnitude')"
   ]
  },
  {
   "cell_type": "markdown",
   "metadata": {},
   "source": [
    "# Native Reconstruction\n",
    "\n",
    "Simply do an inverse FFT."
   ]
  },
  {
   "cell_type": "code",
   "execution_count": null,
   "metadata": {},
   "outputs": [],
   "source": [
    "img_naive = np.fft.ifftshift(ksp)\n",
    "img_naive = np.fft.ifftn(img_naive, norm='ortho')\n",
    "img_naive = np.fft.fftshift(img_naive)\n",
    "\n",
    "fig, ax = plt.subplots()\n",
    "ax.imshow(np.abs(img_naive), cmap='gray')\n",
    "ax.set_title('Naive Reconstruction')"
   ]
  },
  {
   "cell_type": "markdown",
   "metadata": {},
   "source": [
    "# L1 Wavelet Reconstruction\n",
    "\n",
    "The L1 wavelet regularization reconstruction solves the following problem:\n",
    "$$\\min_x \\frac{1}{2} \\| S F W^H x - y \\|_2^2 + \\lambda \\| x \\|_1$$\n",
    "where $S$ is the sampling operator, $F$ is the Fourier transform operator, $W^H$ is the inverse wavelet transform operator, $x$ is the wavelet coefficients and $y$ is the acquired k-space measurements.\n",
    "\n",
    "The reconstruction image can be generated from $W^H x$.\n",
    "\n",
    "We will create an L1 wavelet reconstruction by doing:\n",
    "\n",
    "- Create linear operators $P, F, W$\n",
    "- Create the soft-threshold function"
   ]
  },
  {
   "cell_type": "markdown",
   "metadata": {},
   "source": [
    "## Linear operators (Linop)\n",
    "\n",
    "In the following, we will create the neccessary linear opeartors, $F$, $S$, $P$, and $W$."
   ]
  },
  {
   "cell_type": "markdown",
   "metadata": {},
   "source": [
    "### $F$ Linop\n",
    "To start, we will create an FFT linear opeartor class.  It takes the input array shape and application axes as arguments. We will also apply its adjoint, which is the inverse FFT, to the k-space array `ksp` to verify if it's working."
   ]
  },
  {
   "cell_type": "code",
   "execution_count": null,
   "metadata": {},
   "outputs": [],
   "source": [
    "class FFTLinop(object):\n",
    "    \n",
    "    def __call__(self, x):\n",
    "        y = np.fft.ifftshift(x)\n",
    "        y = np.fft.fftn(y, norm='ortho')\n",
    "        y = np.fft.fftshift(y)\n",
    "        return y\n",
    "\n",
    "    def H(self, x):\n",
    "        y = np.fft.ifftshift(x)\n",
    "        y = np.fft.ifftn(y, norm='ortho')\n",
    "        y = np.fft.fftshift(y)\n",
    "        return y\n",
    "\n",
    "F = FFTLinop()"
   ]
  },
  {
   "cell_type": "code",
   "execution_count": null,
   "metadata": {},
   "outputs": [],
   "source": [
    "fig, ax = plt.subplots()\n",
    "ax.imshow(np.abs(F.H(ksp)), cmap='gray')"
   ]
  },
  {
   "cell_type": "markdown",
   "metadata": {},
   "source": [
    "### $S$ Linop\n",
    "\n",
    "Given the sampling mask, this operator simply multiplies the input array with the mask. We will estimate the sampling mask from the non-zero entries of the k-space arrays."
   ]
  },
  {
   "cell_type": "code",
   "execution_count": null,
   "metadata": {
    "scrolled": false
   },
   "outputs": [],
   "source": [
    "mask = np.abs(ksp) > 0\n",
    "\n",
    "fig, ax = plt.subplots()\n",
    "ax.imshow(mask, cmap='gray')"
   ]
  },
  {
   "cell_type": "markdown",
   "metadata": {},
   "source": [
    "This can also be made into a linear operator"
   ]
  },
  {
   "cell_type": "code",
   "execution_count": null,
   "metadata": {},
   "outputs": [],
   "source": [
    "class SamplingLinop(object):\n",
    "\n",
    "    def __call__(self, x):\n",
    "        return mask * x\n",
    "\n",
    "    H = __call__\n",
    "    \n",
    "S = SamplingLinop()"
   ]
  },
  {
   "cell_type": "markdown",
   "metadata": {},
   "source": [
    "### $W$ Linop\n",
    "\n",
    "We will create a wavelet transform operator using the [Wavelet](https://sigpy.readthedocs.io/en/latest/generated/sigpy.linop.Wavelet.html#sigpy.linop.Wavelet) Linop. It takes the input array shape as input. By defualt, it uses the Daubechies-4 wavelet transform. Let us apply it to an image to see if the result makes sense."
   ]
  },
  {
   "cell_type": "code",
   "execution_count": null,
   "metadata": {},
   "outputs": [],
   "source": [
    "import pywt\n",
    "\n",
    "coeff = pywt.wavedecn(img, 'db4', mode='periodic', level=3)\n",
    "coeff, coeff_slices = pywt.coeffs_to_array(coeff)\n",
    "\n",
    "fig, ax = plt.subplots()\n",
    "ax.imshow(np.abs(coeff)**0.1, cmap='gray')"
   ]
  },
  {
   "cell_type": "code",
   "execution_count": null,
   "metadata": {},
   "outputs": [],
   "source": [
    "class WaveletLinop(object):\n",
    "\n",
    "    def __call__(self, x):\n",
    "        coeff = pywt.wavedecn(x, 'db4', mode='periodic', level=3)\n",
    "        coeff, coeff_slices = pywt.coeffs_to_array(coeff)\n",
    "        return coeff\n",
    "\n",
    "    def H(self, x):\n",
    "        y = pywt.array_to_coeffs(x, coeff_slices)\n",
    "        y = pywt.waverecn(y, 'db4', mode='periodic')\n",
    "        return y\n",
    "    \n",
    "W = WaveletLinop()"
   ]
  },
  {
   "cell_type": "markdown",
   "metadata": {},
   "source": [
    "# Soft-threshold\n",
    "\n",
    "Proximal operators are abstracted in the class [Prox](https://sigpy.readthedocs.io/en/latest/generated/sigpy.prox.Prox.html#sigpy.prox.Prox). Given a function $g(x)$, a proximal operator is called on a scalar ($\\alpha$) and an array $x$ to compute:\n",
    "$$\\text{prox}_{\\alpha g} (y) = \\text{argmin}_x \\frac{1}{2} || x - y ||_2^2 + \\alpha g(x)$$\n",
    "\n",
    "Here, our function $g(x) = \\lambda \\| x \\|_1$ is a scaled L1-norm function. We can use the [L1Reg](https://sigpy.readthedocs.io/en/latest/generated/sigpy.prox.L1Reg.html#sigpy.prox.L1Reg) Prox, which performs a soft-thresholding operation. It takes the input array shape and the regularization parameter $\\lambda$ as arguments.\n",
    "\n",
    "We will define the L1 regularization proximal operator and apply it on the wavelet coefficients."
   ]
  },
  {
   "cell_type": "code",
   "execution_count": null,
   "metadata": {},
   "outputs": [],
   "source": [
    "def soft_thresh(y, lamda):\n",
    "    mag = np.abs(y) - lamda\n",
    "    mag *= mag > 0\n",
    "    \n",
    "    sign = np.divide(y, np.abs(y), where=y != 0)\n",
    "    return mag * sign"
   ]
  },
  {
   "cell_type": "code",
   "execution_count": null,
   "metadata": {},
   "outputs": [],
   "source": [
    "lamda = 0.01\n",
    "coeff_thresh = soft_thresh(coeff, lamda)\n",
    "\n",
    "fig, ax = plt.subplots()\n",
    "ax.imshow(np.abs(coeff_thresh)**0.1, cmap='gray')"
   ]
  },
  {
   "cell_type": "code",
   "execution_count": null,
   "metadata": {},
   "outputs": [],
   "source": [
    "img_thresh = W.H(coeff_thresh)\n",
    "\n",
    "fig, ax = plt.subplots()\n",
    "ax.imshow(np.abs(img_thresh), cmap='gray')"
   ]
  },
  {
   "cell_type": "markdown",
   "metadata": {},
   "source": [
    "# Gradient Descent"
   ]
  },
  {
   "cell_type": "code",
   "execution_count": null,
   "metadata": {},
   "outputs": [],
   "source": [
    "max_iter = 100\n",
    "alpha = 1\n",
    "\n",
    "def gradf(x):\n",
    "    return W(F.H(S.H(S(F(W.H(x))) - ksp)))"
   ]
  },
  {
   "cell_type": "code",
   "execution_count": null,
   "metadata": {},
   "outputs": [],
   "source": [
    "coeff_hat = np.zeros_like(coeff)\n",
    "\n",
    "for it in range(max_iter):\n",
    "    coeff_hat -= alpha * gradf(coeff_hat)\n",
    "    coeff_hat = soft_thresh(coeff_hat, lamda * alpha)\n",
    "    \n",
    "img_hat = W.H(coeff_hat)"
   ]
  },
  {
   "cell_type": "code",
   "execution_count": null,
   "metadata": {},
   "outputs": [],
   "source": [
    "from tqdm.auto import tqdm\n",
    "\n",
    "coeff_hat = np.zeros_like(coeff)\n",
    "\n",
    "for it in tqdm(range(max_iter)):\n",
    "    coeff_hat -= alpha * gradf(coeff_hat)\n",
    "    coeff_hat = soft_thresh(coeff_hat, lamda * alpha)\n",
    "    \n",
    "img_hat = W.H(coeff_hat)"
   ]
  },
  {
   "cell_type": "code",
   "execution_count": null,
   "metadata": {
    "scrolled": false
   },
   "outputs": [],
   "source": [
    "fig, (ax0, ax1, ax2) = plt.subplots(3, figsize=(5, 15))\n",
    "ax0.imshow(np.abs(img), cmap='gray')\n",
    "ax1.imshow(np.abs(img_naive), cmap='gray')\n",
    "ax2.imshow(np.abs(img_hat), cmap='gray')\n"
   ]
  }
 ],
 "metadata": {
  "kernelspec": {
   "display_name": "Python 3",
   "language": "python",
   "name": "python3"
  },
  "language_info": {
   "codemirror_mode": {
    "name": "ipython",
    "version": 3
   },
   "file_extension": ".py",
   "mimetype": "text/x-python",
   "name": "python",
   "nbconvert_exporter": "python",
   "pygments_lexer": "ipython3",
   "version": "3.7.3"
  }
 },
 "nbformat": 4,
 "nbformat_minor": 2
}
