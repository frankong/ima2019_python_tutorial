{
 "cells": [
  {
   "cell_type": "markdown",
   "metadata": {},
   "source": [
    "# Fourier Compressed Sensing\n",
    "\n",
    "In this notebook, we will create an L1 wavelet regularized reconstruction."
   ]
  },
  {
   "cell_type": "markdown",
   "metadata": {},
   "source": [
    "## Setup\n",
    "\n",
    "Let us import relevant packages and load a brain dataset."
   ]
  },
  {
   "cell_type": "code",
   "execution_count": null,
   "metadata": {},
   "outputs": [],
   "source": [
    "%matplotlib notebook\n",
    "import numpy as np\n",
    "import matplotlib.pyplot as plt"
   ]
  },
  {
   "cell_type": "code",
   "execution_count": null,
   "metadata": {},
   "outputs": [],
   "source": [
    "img = np.load('data/brain_img.npy')\n",
    "\n",
    "fig, ax = plt.subplots()\n",
    "ax.imshow(np.abs(img), cmap='gray')\n",
    "ax.set_title('Ground Truth')"
   ]
  },
  {
   "cell_type": "code",
   "execution_count": null,
   "metadata": {},
   "outputs": [],
   "source": [
    "ksp = np.load('data/brain_ksp.npy')\n",
    "\n",
    "fig, ax = plt.subplots()\n",
    "ax.imshow(np.abs(ksp)**0.1, cmap='gray')\n",
    "ax.set_title('Log k-space magnitude')"
   ]
  },
  {
   "cell_type": "markdown",
   "metadata": {},
   "source": [
    "# Native Reconstruction\n",
    "\n",
    "Simply do an inverse FFT."
   ]
  },
  {
   "cell_type": "code",
   "execution_count": null,
   "metadata": {},
   "outputs": [],
   "source": [
    "img_naive = np.fft.ifftshift(ksp)\n",
    "img_naive = np.fft.ifftn(img_naive, norm='ortho')\n",
    "img_naive = np.fft.fftshift(img_naive)\n",
    "\n",
    "fig, ax = plt.subplots()\n",
    "ax.imshow(np.abs(img_naive), cmap='gray')\n",
    "ax.set_title('Naive Reconstruction')"
   ]
  },
  {
   "cell_type": "markdown",
   "metadata": {},
   "source": [
    "# L1 Wavelet Reconstruction\n",
    "\n",
    "The L1 wavelet regularization reconstruction solves the following problem:\n",
    "$$\\min_x \\frac{1}{2} \\| S F W x - y \\|_2^2 + \\lambda \\| x \\|_1$$\n",
    "where $S$ is the sampling operator, $F$ is the Fourier transform operator, $W$ is the inverse wavelet transform operator, $x$ is the wavelet coefficients and $y$ is the acquired k-space measurements.\n",
    "\n",
    "The reconstruction image can be generated from $W x$.\n",
    "\n",
    "We will create an L1 wavelet reconstruction by doing:\n",
    "\n",
    "- Create linear operators $S, F, W$\n",
    "- Create the soft-threshold function"
   ]
  },
  {
   "cell_type": "markdown",
   "metadata": {},
   "source": [
    "## Linear operators (Linop)\n",
    "\n",
    "In the following, we will create the neccessary linear operators, $F$, $S$, and $W$.\n",
    "\n",
    "First we will create a generic Linop class such that we can perform forward, adjoint and compose.\n",
    "\n",
    "    A(x)\n",
    "    A.H(x)\n",
    "    C = A * B"
   ]
  },
  {
   "cell_type": "code",
   "execution_count": null,
   "metadata": {},
   "outputs": [],
   "source": [
    "class Linop(object):\n",
    "    def __call__(self, x):\n",
    "        return self._forward(x)\n",
    "    \n",
    "    def H(self, x):\n",
    "        return self._adjoint(x)\n",
    "    \n",
    "    def __mul__(self, B):\n",
    "        return Compose(self, B)\n",
    "    \n",
    "    def _forward(self, x):\n",
    "        raise NotImplementedError\n",
    "\n",
    "    def _adjoint(self, x):\n",
    "        raise NotImplementedError"
   ]
  },
  {
   "cell_type": "code",
   "execution_count": null,
   "metadata": {},
   "outputs": [],
   "source": [
    "class Compose(Linop):\n",
    "    def __init__(self, A, B):\n",
    "        self.A = A\n",
    "        self.B = B\n",
    "        \n",
    "    def _forward(self, x):\n",
    "        return self.A(self.B(x))\n",
    "    \n",
    "    def _adjoint(self, x):\n",
    "        return self.B.H(self.A.H(x))"
   ]
  },
  {
   "cell_type": "markdown",
   "metadata": {},
   "source": [
    "### $F$ Linop\n",
    "To start, we will create an FFT linear opeartor class.  It takes the input array shape and application axes as arguments. We will also apply its adjoint, which is the inverse FFT, to the k-space array `ksp` to verify if it's working."
   ]
  },
  {
   "cell_type": "code",
   "execution_count": null,
   "metadata": {},
   "outputs": [],
   "source": [
    "class FFTLinop(Linop):\n",
    "    \n",
    "    def _forward(self, x):\n",
    "        y = np.fft.ifftshift(x)\n",
    "        y = np.fft.fftn(y, norm='ortho')\n",
    "        y = np.fft.fftshift(y)\n",
    "        return y\n",
    "\n",
    "    def _adjoint(self, x):\n",
    "        y = np.fft.ifftshift(x)\n",
    "        y = np.fft.ifftn(y, norm='ortho')\n",
    "        y = np.fft.fftshift(y)\n",
    "        return y\n",
    "\n",
    "F = FFTLinop()"
   ]
  },
  {
   "cell_type": "code",
   "execution_count": null,
   "metadata": {},
   "outputs": [],
   "source": [
    "fig, ax = plt.subplots()\n",
    "ax.imshow(np.abs(F.H(ksp)), cmap='gray')\n",
    "ax.set_title('Naive Reconstruction using Linop')"
   ]
  },
  {
   "cell_type": "markdown",
   "metadata": {},
   "source": [
    "### $S$ Linop\n",
    "\n",
    "Given the sampling mask, this operator simply multiplies the input array with the mask. We will estimate the sampling mask from the non-zero entries of the k-space arrays."
   ]
  },
  {
   "cell_type": "code",
   "execution_count": null,
   "metadata": {
    "scrolled": false
   },
   "outputs": [],
   "source": [
    "mask = np.abs(ksp) > 0\n",
    "\n",
    "fig, ax = plt.subplots()\n",
    "ax.imshow(mask, cmap='gray')\n",
    "ax.set_title('Sampling Mask')"
   ]
  },
  {
   "cell_type": "markdown",
   "metadata": {},
   "source": [
    "This can also be made into a linear operator"
   ]
  },
  {
   "cell_type": "code",
   "execution_count": null,
   "metadata": {},
   "outputs": [],
   "source": [
    "class SamplingLinop(Linop):\n",
    "\n",
    "    def _forward(self, x):\n",
    "        return mask * x\n",
    "\n",
    "    _adjoint = _forward\n",
    "    \n",
    "S = SamplingLinop()"
   ]
  },
  {
   "cell_type": "markdown",
   "metadata": {},
   "source": [
    "### $W$ Linop\n",
    "\n",
    "We will perform wavelet transforms using the `pywt` library. By default, the wavelet decomposition function `wavdecn` outputs a dictionary with wavelet coefficients from each subband. We will concatenate that into an array using the function `coeffs_to_array`."
   ]
  },
  {
   "cell_type": "code",
   "execution_count": null,
   "metadata": {},
   "outputs": [],
   "source": [
    "import pywt\n",
    "\n",
    "coeff = pywt.wavedecn(img, 'db4', mode='periodic', level=3)\n",
    "coeff, coeff_slices = pywt.coeffs_to_array(coeff)\n",
    "\n",
    "fig, ax = plt.subplots()\n",
    "ax.imshow(np.abs(coeff)**0.3, cmap='gray')\n",
    "ax.set_title('Wavelet Coefficients')"
   ]
  },
  {
   "cell_type": "code",
   "execution_count": null,
   "metadata": {},
   "outputs": [],
   "source": [
    "class InverseWaveletLinop(Linop):\n",
    "\n",
    "    def _forward(self, x):\n",
    "        y = pywt.array_to_coeffs(x, coeff_slices)\n",
    "        y = pywt.waverecn(y, 'db4', mode='periodic')\n",
    "        return y\n",
    "\n",
    "    def _adjoint(self, x):\n",
    "        coeff = pywt.wavedecn(x, 'db4', mode='periodic', level=3)\n",
    "        coeff, coeff_slices = pywt.coeffs_to_array(coeff)\n",
    "        return coeff\n",
    "    \n",
    "W = InverseWaveletLinop()"
   ]
  },
  {
   "cell_type": "code",
   "execution_count": null,
   "metadata": {
    "scrolled": true
   },
   "outputs": [],
   "source": [
    "A = S * F * W"
   ]
  },
  {
   "cell_type": "markdown",
   "metadata": {},
   "source": [
    "# Soft-threshold\n",
    "\n",
    "Given a function $g(x)$, a proximal operator is called on a scalar ($\\alpha$) and an array $x$ to compute:\n",
    "$$\\text{prox}_{\\alpha g} (y) = \\text{argmin}_x \\frac{1}{2} || x - y ||_2^2 + \\alpha g(x)$$\n",
    "\n",
    "Here, our function $g(x) = \\lambda \\| x \\|_1$ is a scaled L1-norm function. The proximal operator becomes the soft-threshold function:\n",
    "\n",
    "$$\\text{prox}_{\\alpha g} (y) = (|y| - \\alpha \\lambda)_+ \\frac{y}{|y|}$$"
   ]
  },
  {
   "cell_type": "code",
   "execution_count": null,
   "metadata": {},
   "outputs": [],
   "source": [
    "def soft_thresh(y, lamda):\n",
    "    mag = np.abs(y) - lamda\n",
    "    mag *= mag > 0\n",
    "    \n",
    "    sign = np.divide(y, np.abs(y), where=y != 0)\n",
    "    return mag * sign"
   ]
  },
  {
   "cell_type": "markdown",
   "metadata": {},
   "source": [
    "With the soft-thresholding function, we can then soft-thresh the wavelet coefficients."
   ]
  },
  {
   "cell_type": "code",
   "execution_count": null,
   "metadata": {
    "scrolled": false
   },
   "outputs": [],
   "source": [
    "lamda = 0.05\n",
    "coeff_thresh = soft_thresh(coeff, lamda)\n",
    "\n",
    "fig, ax = plt.subplots()\n",
    "ax.imshow(np.abs(coeff_thresh)**0.3, cmap='gray')\n",
    "ax.set_title('Soft-thresholded Wavelet Coefficients')"
   ]
  },
  {
   "cell_type": "code",
   "execution_count": null,
   "metadata": {},
   "outputs": [],
   "source": [
    "img_thresh = W(coeff_thresh)\n",
    "\n",
    "fig, ax = plt.subplots()\n",
    "ax.imshow(np.abs(img_thresh), cmap='gray')\n",
    "ax.set_title('WavThresh Denoised Image')"
   ]
  },
  {
   "cell_type": "markdown",
   "metadata": {},
   "source": [
    "# Gradient Descent\n",
    "\n",
    "We will do gradient descent. Let us first define the parameters and gradient function"
   ]
  },
  {
   "cell_type": "code",
   "execution_count": null,
   "metadata": {},
   "outputs": [],
   "source": [
    "max_iter = 100\n",
    "alpha = 1\n",
    "\n",
    "def gradf(x):\n",
    "    return A.H(A(x) - ksp)"
   ]
  },
  {
   "cell_type": "markdown",
   "metadata": {},
   "source": [
    "Then we do the following iterative reconstruction"
   ]
  },
  {
   "cell_type": "code",
   "execution_count": null,
   "metadata": {},
   "outputs": [],
   "source": [
    "coeff_hat = np.zeros_like(coeff)\n",
    "\n",
    "for it in range(max_iter):\n",
    "    coeff_hat -= alpha * gradf(coeff_hat)\n",
    "    coeff_hat = soft_thresh(coeff_hat, lamda * alpha)\n",
    "    \n",
    "img_hat = W(coeff_hat)"
   ]
  },
  {
   "cell_type": "markdown",
   "metadata": {},
   "source": [
    "I'd like to highlight a very convenient package `tqdm`. `tqdm` adds a progress bar very easily. You can add it in the for loop `tqdm(range(max_iter))`."
   ]
  },
  {
   "cell_type": "code",
   "execution_count": null,
   "metadata": {},
   "outputs": [],
   "source": [
    "from tqdm.auto import tqdm\n",
    "\n",
    "coeff_hat = np.zeros_like(coeff)\n",
    "\n",
    "for it in tqdm(range(max_iter)):\n",
    "    coeff_hat -= alpha * gradf(coeff_hat)\n",
    "    coeff_hat = soft_thresh(coeff_hat, lamda * alpha)\n",
    "    \n",
    "img_hat = W(coeff_hat)"
   ]
  },
  {
   "cell_type": "code",
   "execution_count": null,
   "metadata": {
    "scrolled": false
   },
   "outputs": [],
   "source": [
    "fig, ax = plt.subplots()\n",
    "ax.imshow(np.abs(img), cmap='gray', vmax=1)\n",
    "ax.set_title('Ground Truth')\n",
    "\n",
    "fig, ax = plt.subplots()\n",
    "ax.imshow(np.abs(img_naive), cmap='gray', vmax=1)\n",
    "ax.set_title('Naive Reconstruction')\n",
    "\n",
    "fig, ax = plt.subplots()\n",
    "ax.imshow(np.abs(img_hat), cmap='gray', vmax=1)\n",
    "ax.set_title('L1 Wavelet Regularized Reconstruction')"
   ]
  },
  {
   "cell_type": "markdown",
   "metadata": {},
   "source": [
    "# Wrapup\n",
    "I'd like to wrap up with a package that I've been developing, SigPy. SigPy is a package for signal processing with iterative methods. It is built to operate directly on NumPy arrays on CPU and CuPy arrays on GPU. \n",
    "\n",
    "SigPy provides three supporting classes for building iterative reconstruction [App](https://sigpy.readthedocs.io/en/latest/generated/sigpy.app.App.html#sigpy.app.App)'s: \n",
    "\n",
    "- [Linop](https://sigpy.readthedocs.io/en/latest/generated/sigpy.linop.Linop.html#sigpy.linop.Linop) for linear operator\n",
    "- [Prox](https://sigpy.readthedocs.io/en/latest/generated/sigpy.prox.Prox.html#sigpy.prox.Prox) for proximal operator\n",
    "- [Alg](https://sigpy.readthedocs.io/en/latest/generated/sigpy.alg.Alg.html#sigpy.alg.Alg) for iterative algorithms\n",
    "\n",
    "![architecture](https://sigpy.readthedocs.io/en/latest/_images/architecture.pdf)"
   ]
  },
  {
   "cell_type": "code",
   "execution_count": null,
   "metadata": {},
   "outputs": [],
   "source": [
    "import sigpy as sp\n",
    "\n",
    "class L1WaveletRecon(sp.app.App):\n",
    "    def __init__(self, ksp, lamda, max_iter):\n",
    "        mask = ksp != 0\n",
    "        \n",
    "        F = sp.linop.FFT(ksp.shape)\n",
    "        S = sp.linop.Multiply(ksp.shape, mask)\n",
    "        self.W = sp.linop.InverseWavelet(ksp.shape)\n",
    "        A = S * F * self.W\n",
    "        \n",
    "        proxg = sp.prox.L1Reg(A.ishape, lamda)\n",
    "        \n",
    "        self.coeff = np.zeros(A.ishape, np.complex)\n",
    "        alpha = 1\n",
    "        def gradf(x):\n",
    "            return A.H * (A * x - ksp)\n",
    "\n",
    "        alg = sp.alg.GradientMethod(gradf, self.coeff, alpha, proxg=proxg, \n",
    "                                    max_iter=max_iter)\n",
    "        super().__init__(alg)\n",
    "        \n",
    "    def _output(self):\n",
    "        return self.W(self.coeff)"
   ]
  },
  {
   "cell_type": "code",
   "execution_count": null,
   "metadata": {},
   "outputs": [],
   "source": [
    "img_hat = L1WaveletRecon(ksp, lamda, max_iter).run()"
   ]
  },
  {
   "cell_type": "code",
   "execution_count": null,
   "metadata": {},
   "outputs": [],
   "source": [
    "fig, ax = plt.subplots()\n",
    "ax.imshow(np.abs(img_hat), cmap='gray', vmax=1)\n",
    "ax.set_title('L1 Wavelet Regularized Reconstruction using SigPy')"
   ]
  }
 ],
 "metadata": {
  "kernelspec": {
   "display_name": "Python 3",
   "language": "python",
   "name": "python3"
  },
  "language_info": {
   "codemirror_mode": {
    "name": "ipython",
    "version": 3
   },
   "file_extension": ".py",
   "mimetype": "text/x-python",
   "name": "python",
   "nbconvert_exporter": "python",
   "pygments_lexer": "ipython3",
   "version": "3.7.3"
  }
 },
 "nbformat": 4,
 "nbformat_minor": 2
}
